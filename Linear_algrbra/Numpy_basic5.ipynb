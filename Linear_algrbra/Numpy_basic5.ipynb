{
 "cells": [
  {
   "cell_type": "markdown",
   "metadata": {},
   "source": [
    "# numpy 전치, 단위, 역행렬 연습\n",
    "- 복잡한 행렬 연산을 numpy를 사용해서 계산해보겠습니다. 행렬 ﻿A, B, C, D﻿ 는 정의해놨으며, 아래 행렬 연산을 numpy로 작성하시면 됩니다.\n",
    "- ﻿ B$^T$ x (2 * A$^T$) x (3 * C$^{-1}$ + D$^T$)﻿"
   ]
  },
  {
   "cell_type": "markdown",
   "metadata": {},
   "source": [
    "## 출력 예시"
   ]
  },
  {
   "cell_type": "code",
   "execution_count": 4,
   "metadata": {},
   "outputs": [
    {
     "data": {
      "text/plain": [
       "array([[20., 98.],\n",
       "       [56., 60.]])"
      ]
     },
     "execution_count": 4,
     "metadata": {},
     "output_type": "execute_result"
    }
   ],
   "source": [
    "result"
   ]
  },
  {
   "cell_type": "markdown",
   "metadata": {},
   "source": [
    "## 입력 값"
   ]
  },
  {
   "cell_type": "code",
   "execution_count": 1,
   "metadata": {},
   "outputs": [],
   "source": [
    "import numpy as np"
   ]
  },
  {
   "cell_type": "code",
   "execution_count": 2,
   "metadata": {},
   "outputs": [],
   "source": [
    "A = np.array([\n",
    "    [1, -1, 2],\n",
    "    [3, 2, 2]\n",
    "])\n",
    "\n",
    "B = np.array([\n",
    "    [0, 1],\n",
    "    [-1, 1],\n",
    "    [5, 2]\n",
    "])\n",
    "\n",
    "C = np.array([\n",
    "    [2, -1],\n",
    "    [-3, 3]\n",
    "])\n",
    "\n",
    "D = np.array([\n",
    "    [-5, 1],\n",
    "    [2, 0]\n",
    "])"
   ]
  },
  {
   "cell_type": "markdown",
   "metadata": {},
   "source": [
    "## 결과 작성"
   ]
  },
  {
   "cell_type": "code",
   "execution_count": 3,
   "metadata": {},
   "outputs": [
    {
     "data": {
      "text/plain": [
       "array([[20., 98.],\n",
       "       [56., 60.]])"
      ]
     },
     "execution_count": 3,
     "metadata": {},
     "output_type": "execute_result"
    }
   ],
   "source": [
    "C_inverse = np.linalg.pinv(C)\n",
    "# 행렬 연산을 result 변수에 저장하세요\n",
    "result = B.T @ (2 * A.T) @ (3 * C_inverse + D.T)\n",
    "\n",
    "result"
   ]
  }
 ],
 "metadata": {
  "kernelspec": {
   "display_name": "Python 3",
   "language": "python",
   "name": "python3"
  },
  "language_info": {
   "codemirror_mode": {
    "name": "ipython",
    "version": 3
   },
   "file_extension": ".py",
   "mimetype": "text/x-python",
   "name": "python",
   "nbconvert_exporter": "python",
   "pygments_lexer": "ipython3",
   "version": "3.8.5"
  }
 },
 "nbformat": 4,
 "nbformat_minor": 4
}
