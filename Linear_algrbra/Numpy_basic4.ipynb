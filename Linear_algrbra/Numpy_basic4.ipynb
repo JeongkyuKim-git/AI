{
 "cells": [
  {
   "cell_type": "markdown",
   "metadata": {},
   "source": [
    "# 행렬 종류\n",
    "- 전치 행렬 (Transposed Matrix)\n",
    "    <ol>\n",
    "        <li>행렬의 열과 행을 바꾸는 것</li>\n",
    "        <br>\n",
    "        <li>A = $\\begin{bmatrix}\n",
    "            1&2&1\\\\3&2&2\\\\ \\end{bmatrix}\n",
    "        $ $\\Longrightarrow$ A$^T$ = $\\begin{bmatrix}\n",
    "            1&3\\\\2&2\\\\1&2\\\\ \\end{bmatrix}\n",
    "        $</li>\n",
    "    </ol>\n",
    "    <br>\n",
    "\n",
    "- 단위 행렬 (Identity Matrix)\n",
    "    <ol>\n",
    "        <li>단위 행렬은 정사각형</li>\n",
    "        <br>\n",
    "        <li>A * I = A</li>\n",
    "        <br>\n",
    "        <li>A = $\\begin{bmatrix}\n",
    "            3&4\\\\1&2\\\\ \\end{bmatrix}$ $,$ $ $I = $\\begin{bmatrix}\n",
    "            1&0\\\\0&1\\\\ \\end{bmatrix}$        \n",
    "         <br><br>\n",
    "         $\\Longrightarrow$ A*I = $\\begin{bmatrix}\n",
    "            3&4\\\\1&2\\\\ \\end{bmatrix}\n",
    "        $</li>\n",
    "    </ol>\n",
    "    <br>\n",
    "\n",
    "- 역행렬 (Inverse Matrix)\n",
    "    <ol>\n",
    "        <li>곱 했을경우 1이 나오도록 하는 수</li>\n",
    "        <br>\n",
    "        <li>역행렬은 정사각형이여야 하며, 모든 행렬에 역행렬이 있는 것은 아니다.</li>\n",
    "        <br>\n",
    "        <li>A = $\\begin{bmatrix}\n",
    "            3&4\\\\1&2\\\\ \\end{bmatrix}$ $,$ $ $A$^{-1}$ = $\\begin{bmatrix}\n",
    "            1&-2\\\\-\\frac{1}{2}&\\frac{3}{2}\\\\ \\end{bmatrix}$        \n",
    "         <br><br>\n",
    "         $\\Longrightarrow$ A*A$^{-1}$ = $\\begin{bmatrix}\n",
    "            1&0\\\\0&1\\\\ \\end{bmatrix}\n",
    "        $</li>\n",
    "    \n",
    "    </ol>\n",
    "    "
   ]
  },
  {
   "cell_type": "code",
   "execution_count": 1,
   "metadata": {},
   "outputs": [],
   "source": [
    "import numpy as np"
   ]
  },
  {
   "cell_type": "code",
   "execution_count": 2,
   "metadata": {},
   "outputs": [],
   "source": [
    "A = np.array([\n",
    "    [1,-1,2],\n",
    "    [3,2,2],\n",
    "    [4,1,2]\n",
    "])"
   ]
  },
  {
   "cell_type": "code",
   "execution_count": 4,
   "metadata": {},
   "outputs": [],
   "source": [
    "A_tranpose = A.T"
   ]
  },
  {
   "cell_type": "code",
   "execution_count": 5,
   "metadata": {},
   "outputs": [
    {
     "data": {
      "text/plain": [
       "array([[ 1,  3,  4],\n",
       "       [-1,  2,  1],\n",
       "       [ 2,  2,  2]])"
      ]
     },
     "execution_count": 5,
     "metadata": {},
     "output_type": "execute_result"
    }
   ],
   "source": [
    "A_tranpose"
   ]
  },
  {
   "cell_type": "code",
   "execution_count": 8,
   "metadata": {},
   "outputs": [
    {
     "data": {
      "text/plain": [
       "array([[1., 0., 0.],\n",
       "       [0., 1., 0.],\n",
       "       [0., 0., 1.]])"
      ]
     },
     "execution_count": 8,
     "metadata": {},
     "output_type": "execute_result"
    }
   ],
   "source": [
    "I = np.identity(3)\n",
    "I"
   ]
  },
  {
   "cell_type": "code",
   "execution_count": 9,
   "metadata": {},
   "outputs": [
    {
     "data": {
      "text/plain": [
       "array([[ 1., -1.,  2.],\n",
       "       [ 3.,  2.,  2.],\n",
       "       [ 4.,  1.,  2.]])"
      ]
     },
     "execution_count": 9,
     "metadata": {},
     "output_type": "execute_result"
    }
   ],
   "source": [
    "A @ I"
   ]
  },
  {
   "cell_type": "markdown",
   "metadata": {},
   "source": [
    "#### 리니어 알지브라 (피 인브 함수) A의 역행렬을 구하라"
   ]
  },
  {
   "cell_type": "code",
   "execution_count": 12,
   "metadata": {},
   "outputs": [
    {
     "data": {
      "text/plain": [
       "array([[-0.2, -0.4,  0.6],\n",
       "       [-0.2,  0.6, -0.4],\n",
       "       [ 0.5,  0.5, -0.5]])"
      ]
     },
     "execution_count": 12,
     "metadata": {},
     "output_type": "execute_result"
    }
   ],
   "source": [
    "A_inverse = np.linalg.pinv(A)\n",
    "A_inverse"
   ]
  },
  {
   "cell_type": "markdown",
   "metadata": {},
   "source": [
    "##### 뒤의 소수 0은 무수히 많은 것인데 컴퓨터가 표현하기 어려워 오차가 생기는 것 --> 15, 16 "
   ]
  },
  {
   "cell_type": "code",
   "execution_count": 13,
   "metadata": {
    "scrolled": true
   },
   "outputs": [
    {
     "data": {
      "text/plain": [
       "array([[ 1.00000000e+00,  6.66133815e-16, -1.11022302e-15],\n",
       "       [-2.22044605e-16,  1.00000000e+00, -6.66133815e-16],\n",
       "       [ 0.00000000e+00,  2.22044605e-16,  1.00000000e+00]])"
      ]
     },
     "execution_count": 13,
     "metadata": {},
     "output_type": "execute_result"
    }
   ],
   "source": [
    "A @ A_inverse"
   ]
  },
  {
   "cell_type": "code",
   "execution_count": null,
   "metadata": {},
   "outputs": [],
   "source": [
    " "
   ]
  }
 ],
 "metadata": {
  "kernelspec": {
   "display_name": "Python 3",
   "language": "python",
   "name": "python3"
  },
  "language_info": {
   "codemirror_mode": {
    "name": "ipython",
    "version": 3
   },
   "file_extension": ".py",
   "mimetype": "text/x-python",
   "name": "python",
   "nbconvert_exporter": "python",
   "pygments_lexer": "ipython3",
   "version": "3.8.5"
  }
 },
 "nbformat": 4,
 "nbformat_minor": 4
}
