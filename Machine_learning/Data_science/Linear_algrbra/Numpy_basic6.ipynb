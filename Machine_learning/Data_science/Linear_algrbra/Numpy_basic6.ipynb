{
 "cells": [
  {
   "cell_type": "markdown",
   "metadata": {},
   "source": [
    "# 선형대수학과 행렬/벡터\n",
    "\n",
    "- 선형 시스템\n",
    "    <ul>\n",
    "        <br>\n",
    "        <p>아무리 복잡한 선형 시스템도 행렬과 벡터로 쉽게 표현할 수 있다.</p>\n",
    "        <div>--------------------------</div>\n",
    "        <p>2x$_0$ - 4x$_1$ + x$_2$ = 3</p>\n",
    "        <p>3x$_0$ + x$_1$ - 6x$_2$ = 10</p>\n",
    "        <p>x$_0$ + x$_1$ + x$_2$ = 5</p>\n",
    "        <div>--------------------------</div>\n",
    "    </ul>\n",
    "    \n",
    "    <ul>\n",
    "         <br>\n",
    "         <div>------------</div>\n",
    "         <div>- Ax = y -</div>\n",
    "         <div>------------</div>\n",
    "    </ul>\n",
    "      \n",
    "    <ul>\n",
    "        <li> $$\\left[\\begin{array}{rrr} \n",
    "             2&-4&1\\\\3&1&-6\\\\1&1&1\\end{array}\\right]\n",
    "             \\left[\\begin{array}{rr}x_0\\\\x_1\\\\x_2\\end{array}\\right] =     \n",
    "             \\left[\\begin{array}{rr}3\\\\10\\\\5\\end{array}\\right]\n",
    "             $$</li>\n",
    "        <br>\n",
    "        <li> $$\\left[\\begin{array}{r} \n",
    "            2x_0-4x_1+x_0\\\\3x_0+x_1-6x_2\\\\x_0+x_1+x_2\\end{array}\\right] = \n",
    "            \\left[\\begin{array}{rr} \n",
    "            3\\\\10\\\\5\\end{array}\\right]$$</li>\n",
    "    </ul>\n",
    "    "
   ]
  },
  {
   "cell_type": "markdown",
   "metadata": {},
   "source": [
    "### 요약\n",
    "*머신 러닝을 할 때는 데이터를 일차식에 사용하는 경우가 많다.*\n",
    "  \n",
    "\n",
    "\n",
    "*행렬을 이용하면 정돈된 형태로 효율적이게 계산을 할 수 있다.*\n",
    "  \n",
    "\n",
    "\n",
    "*선형 대수학은 일차식, 일차 함수, 행렬, 벡터를 다루는 학문이기 때문에 필수.*"
   ]
  },
  {
   "cell_type": "code",
   "execution_count": null,
   "metadata": {},
   "outputs": [],
   "source": []
  }
 ],
 "metadata": {
  "kernelspec": {
   "display_name": "Python 3",
   "language": "python",
   "name": "python3"
  },
  "language_info": {
   "codemirror_mode": {
    "name": "ipython",
    "version": 3
   },
   "file_extension": ".py",
   "mimetype": "text/x-python",
   "name": "python",
   "nbconvert_exporter": "python",
   "pygments_lexer": "ipython3",
   "version": "3.8.5"
  }
 },
 "nbformat": 4,
 "nbformat_minor": 4
}
