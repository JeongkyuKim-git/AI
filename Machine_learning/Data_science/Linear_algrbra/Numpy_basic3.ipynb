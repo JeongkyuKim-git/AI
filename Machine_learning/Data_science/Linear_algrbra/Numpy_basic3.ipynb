{
 "cells": [
  {
   "cell_type": "markdown",
   "metadata": {},
   "source": [
    "# numpy 행렬 연산\n",
    "- 문제에 주어진 내용과 결과에 대해서 numpy를 사용해서 행렬 연산을 해보겠습니다. 지금 템플릿에는 행렬 4개, 각각 ﻿A, B, C, D﻿ 의 행렬이 정의되어 있는데요. 이 행렬들을 이용해서 다음과 아래 행렬 연산을 해보세요.\n",
    "\n",
    "- ﻿2A x -B x (3C + D)﻿"
   ]
  },
  {
   "cell_type": "code",
   "execution_count": 9,
   "metadata": {},
   "outputs": [
    {
     "data": {
      "text/plain": [
       "array([[  34,  -28],\n",
       "       [ 110, -130]])"
      ]
     },
     "execution_count": 9,
     "metadata": {},
     "output_type": "execute_result"
    }
   ],
   "source": [
    "result"
   ]
  },
  {
   "cell_type": "markdown",
   "metadata": {},
   "source": [
    "Result의 결과물"
   ]
  },
  {
   "cell_type": "code",
   "execution_count": 1,
   "metadata": {},
   "outputs": [],
   "source": [
    "import numpy as np"
   ]
  },
  {
   "cell_type": "code",
   "execution_count": 2,
   "metadata": {},
   "outputs": [],
   "source": [
    "A = np.array([\n",
    "    [1, -1, 2],\n",
    "    [3, 2, 2]\n",
    "])\n",
    "\n",
    "B = np.array([\n",
    "    [0, 1],\n",
    "    [-1, 1],\n",
    "    [5, 2]\n",
    "])\n",
    "\n",
    "C = np.array([\n",
    "    [2, -1],\n",
    "    [-3, 3]\n",
    "])\n",
    "\n",
    "D = np.array([\n",
    "    [-5, 1],\n",
    "    [2, 0]\n",
    "])"
   ]
  },
  {
   "cell_type": "code",
   "execution_count": 6,
   "metadata": {},
   "outputs": [],
   "source": [
    "# 행렬 연산 결과를 result에 저장하세요\n",
    "# @ = 곱하기\n",
    "\n",
    "result = 2*A @ -B @ (3*C+D)"
   ]
  },
  {
   "cell_type": "code",
   "execution_count": 8,
   "metadata": {},
   "outputs": [
    {
     "data": {
      "text/plain": [
       "array([[  34,  -28],\n",
       "       [ 110, -130]])"
      ]
     },
     "execution_count": 8,
     "metadata": {},
     "output_type": "execute_result"
    }
   ],
   "source": [
    "result"
   ]
  },
  {
   "cell_type": "code",
   "execution_count": null,
   "metadata": {},
   "outputs": [],
   "source": []
  }
 ],
 "metadata": {
  "kernelspec": {
   "display_name": "Python 3",
   "language": "python",
   "name": "python3"
  },
  "language_info": {
   "codemirror_mode": {
    "name": "ipython",
    "version": 3
   },
   "file_extension": ".py",
   "mimetype": "text/x-python",
   "name": "python",
   "nbconvert_exporter": "python",
   "pygments_lexer": "ipython3",
   "version": "3.8.5"
  }
 },
 "nbformat": 4,
 "nbformat_minor": 4
}
