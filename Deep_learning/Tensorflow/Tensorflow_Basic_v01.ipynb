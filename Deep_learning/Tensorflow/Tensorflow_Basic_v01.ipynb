{
 "cells": [
  {
   "cell_type": "markdown",
   "id": "2cea8994",
   "metadata": {},
   "source": [
    "- github data --> https://raw.githubusercontent.com/blackdew/tensorflow1/master/csv/lemonade.csv"
   ]
  },
  {
   "cell_type": "code",
   "execution_count": 6,
   "id": "fc71cc2f",
   "metadata": {},
   "outputs": [],
   "source": [
    "# 라이브러리 사용\n",
    "\n",
    "import tensorflow as tf\n",
    "import pandas as pd"
   ]
  },
  {
   "cell_type": "code",
   "execution_count": 7,
   "id": "4b2472d0",
   "metadata": {},
   "outputs": [],
   "source": [
    "###########################\n",
    "# 파일로부터 데이터 읽어오기\n",
    "파일경로 = 'https://raw.githubusercontent.com/blackdew/tensorflow1/master/csv/lemonade.csv'\n",
    "레모네이드 = pd.read_csv(파일경로)"
   ]
  },
  {
   "cell_type": "code",
   "execution_count": 17,
   "id": "377c557a",
   "metadata": {},
   "outputs": [
    {
     "name": "stdout",
     "output_type": "stream",
     "text": [
      "   온도  판매량\n",
      "0  20   40\n",
      "1  21   42\n",
      "2  22   44\n",
      "3  23   46\n",
      "4  24   48\n",
      "5  25   50\n"
     ]
    },
    {
     "data": {
      "text/html": [
       "<div>\n",
       "<style scoped>\n",
       "    .dataframe tbody tr th:only-of-type {\n",
       "        vertical-align: middle;\n",
       "    }\n",
       "\n",
       "    .dataframe tbody tr th {\n",
       "        vertical-align: top;\n",
       "    }\n",
       "\n",
       "    .dataframe thead th {\n",
       "        text-align: right;\n",
       "    }\n",
       "</style>\n",
       "<table border=\"1\" class=\"dataframe\">\n",
       "  <thead>\n",
       "    <tr style=\"text-align: right;\">\n",
       "      <th></th>\n",
       "      <th>온도</th>\n",
       "      <th>판매량</th>\n",
       "    </tr>\n",
       "  </thead>\n",
       "  <tbody>\n",
       "    <tr>\n",
       "      <th>0</th>\n",
       "      <td>20</td>\n",
       "      <td>40</td>\n",
       "    </tr>\n",
       "    <tr>\n",
       "      <th>1</th>\n",
       "      <td>21</td>\n",
       "      <td>42</td>\n",
       "    </tr>\n",
       "    <tr>\n",
       "      <th>2</th>\n",
       "      <td>22</td>\n",
       "      <td>44</td>\n",
       "    </tr>\n",
       "    <tr>\n",
       "      <th>3</th>\n",
       "      <td>23</td>\n",
       "      <td>46</td>\n",
       "    </tr>\n",
       "    <tr>\n",
       "      <th>4</th>\n",
       "      <td>24</td>\n",
       "      <td>48</td>\n",
       "    </tr>\n",
       "  </tbody>\n",
       "</table>\n",
       "</div>"
      ],
      "text/plain": [
       "   온도  판매량\n",
       "0  20   40\n",
       "1  21   42\n",
       "2  22   44\n",
       "3  23   46\n",
       "4  24   48"
      ]
     },
     "execution_count": 17,
     "metadata": {},
     "output_type": "execute_result"
    }
   ],
   "source": [
    "# y=2x\n",
    "\n",
    "print(레모네이드)\n",
    "데이터 = 레모네이드\n",
    "데이터.head()"
   ]
  },
  {
   "cell_type": "code",
   "execution_count": 18,
   "id": "71dc7248",
   "metadata": {},
   "outputs": [
    {
     "name": "stdout",
     "output_type": "stream",
     "text": [
      "(6, 1) (6, 1)\n"
     ]
    }
   ],
   "source": [
    "# 종속변수, 독립변수\n",
    "독립 = 데이터[['온도']]\n",
    "종속 = 데이터[['판매량']]\n",
    "print(독립.shape, 종속.shape)"
   ]
  },
  {
   "cell_type": "code",
   "execution_count": 19,
   "id": "9e7e1cec",
   "metadata": {},
   "outputs": [],
   "source": [
    "# 모델을 만듭니다.\n",
    "# 독립 변수의 컬럼이 1이여서\n",
    "X = tf.keras.layers.Input(shape=[1])\n",
    "\n",
    "# 종속 변수의 컬럼이 1이여서\n",
    "Y = tf.keras.layers.Dense(1)(X)\n",
    "\n",
    "# 모델 완성\n",
    "model = tf.keras.models.Model(X,Y)\n",
    "\n",
    "# 모델 학습 방법\n",
    "model.compile(loss='mse')"
   ]
  },
  {
   "cell_type": "code",
   "execution_count": 31,
   "id": "ba6f0763",
   "metadata": {},
   "outputs": [
    {
     "data": {
      "text/plain": [
       "<keras.callbacks.History at 0x2a3a5fa4ca0>"
      ]
     },
     "execution_count": 31,
     "metadata": {},
     "output_type": "execute_result"
    }
   ],
   "source": [
    "# 모델을 학습합니다.\n",
    "# verbose 화면 출력 x\n",
    "model.fit(독립, 종속, epochs=10000, verbose=0)"
   ]
  },
  {
   "cell_type": "code",
   "execution_count": 33,
   "id": "4291bfc7",
   "metadata": {},
   "outputs": [
    {
     "name": "stdout",
     "output_type": "stream",
     "text": [
      "Epoch 1/10\n",
      "1/1 [==============================] - 0s 2ms/step - loss: 1.3916e-04\n",
      "Epoch 2/10\n",
      "1/1 [==============================] - 0s 2ms/step - loss: 1.3917e-04\n",
      "Epoch 3/10\n",
      "1/1 [==============================] - 0s 3ms/step - loss: 1.3919e-04\n",
      "Epoch 4/10\n",
      "1/1 [==============================] - 0s 2ms/step - loss: 1.3912e-04\n",
      "Epoch 5/10\n",
      "1/1 [==============================] - 0s 3ms/step - loss: 1.3901e-04\n",
      "Epoch 6/10\n",
      "1/1 [==============================] - 0s 2ms/step - loss: 1.3882e-04\n",
      "Epoch 7/10\n",
      "1/1 [==============================] - 0s 2ms/step - loss: 1.3868e-04\n",
      "Epoch 8/10\n",
      "1/1 [==============================] - 0s 1000us/step - loss: 1.3876e-04\n",
      "Epoch 9/10\n",
      "1/1 [==============================] - 0s 2ms/step - loss: 1.3883e-04\n",
      "Epoch 10/10\n",
      "1/1 [==============================] - 0s 999us/step - loss: 1.3891e-04\n"
     ]
    },
    {
     "data": {
      "text/plain": [
       "<keras.callbacks.History at 0x2a3a6093910>"
      ]
     },
     "execution_count": 33,
     "metadata": {},
     "output_type": "execute_result"
    }
   ],
   "source": [
    "model.fit(독립, 종속, epochs=10)"
   ]
  },
  {
   "cell_type": "code",
   "execution_count": 34,
   "id": "8ac7ba84",
   "metadata": {},
   "outputs": [
    {
     "data": {
      "text/plain": [
       "array([[40.01116 ],\n",
       "       [42.01141 ],\n",
       "       [44.011654],\n",
       "       [46.0119  ],\n",
       "       [48.01215 ],\n",
       "       [50.012394]], dtype=float32)"
      ]
     },
     "execution_count": 34,
     "metadata": {},
     "output_type": "execute_result"
    }
   ],
   "source": [
    "# 모델을 이용합니다.\n",
    "model.predict(독립)"
   ]
  },
  {
   "cell_type": "code",
   "execution_count": 35,
   "id": "d3e4ee15",
   "metadata": {},
   "outputs": [
    {
     "data": {
      "text/plain": [
       "array([[30.009933]], dtype=float32)"
      ]
     },
     "execution_count": 35,
     "metadata": {},
     "output_type": "execute_result"
    }
   ],
   "source": [
    "model.predict([[15]])"
   ]
  },
  {
   "cell_type": "code",
   "execution_count": null,
   "id": "e35c26a9",
   "metadata": {},
   "outputs": [],
   "source": []
  }
 ],
 "metadata": {
  "kernelspec": {
   "display_name": "Python 3",
   "language": "python",
   "name": "python3"
  },
  "language_info": {
   "codemirror_mode": {
    "name": "ipython",
    "version": 3
   },
   "file_extension": ".py",
   "mimetype": "text/x-python",
   "name": "python",
   "nbconvert_exporter": "python",
   "pygments_lexer": "ipython3",
   "version": "3.8.8"
  }
 },
 "nbformat": 4,
 "nbformat_minor": 5
}
