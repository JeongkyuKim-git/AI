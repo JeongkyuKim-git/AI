{
 "cells": [
  {
   "cell_type": "code",
   "execution_count": 3,
   "id": "e3c79811",
   "metadata": {},
   "outputs": [],
   "source": [
    "# 라이브러리 사용\n",
    "import tensorflow as tf\n",
    "import pandas as pd"
   ]
  },
  {
   "cell_type": "code",
   "execution_count": 4,
   "id": "483d45c1",
   "metadata": {
    "scrolled": true
   },
   "outputs": [
    {
     "name": "stdout",
     "output_type": "stream",
     "text": [
      "Index(['crim', 'zn', 'indus', 'chas', 'nox', 'rm', 'age', 'dis', 'rad', 'tax',\n",
      "       'ptratio', 'b', 'lstat', 'medv'],\n",
      "      dtype='object')\n"
     ]
    },
    {
     "data": {
      "text/html": [
       "<div>\n",
       "<style scoped>\n",
       "    .dataframe tbody tr th:only-of-type {\n",
       "        vertical-align: middle;\n",
       "    }\n",
       "\n",
       "    .dataframe tbody tr th {\n",
       "        vertical-align: top;\n",
       "    }\n",
       "\n",
       "    .dataframe thead th {\n",
       "        text-align: right;\n",
       "    }\n",
       "</style>\n",
       "<table border=\"1\" class=\"dataframe\">\n",
       "  <thead>\n",
       "    <tr style=\"text-align: right;\">\n",
       "      <th></th>\n",
       "      <th>crim</th>\n",
       "      <th>zn</th>\n",
       "      <th>indus</th>\n",
       "      <th>chas</th>\n",
       "      <th>nox</th>\n",
       "      <th>rm</th>\n",
       "      <th>age</th>\n",
       "      <th>dis</th>\n",
       "      <th>rad</th>\n",
       "      <th>tax</th>\n",
       "      <th>ptratio</th>\n",
       "      <th>b</th>\n",
       "      <th>lstat</th>\n",
       "      <th>medv</th>\n",
       "    </tr>\n",
       "  </thead>\n",
       "  <tbody>\n",
       "    <tr>\n",
       "      <th>0</th>\n",
       "      <td>0.00632</td>\n",
       "      <td>18.0</td>\n",
       "      <td>2.31</td>\n",
       "      <td>0</td>\n",
       "      <td>0.538</td>\n",
       "      <td>6.575</td>\n",
       "      <td>65.2</td>\n",
       "      <td>4.0900</td>\n",
       "      <td>1</td>\n",
       "      <td>296</td>\n",
       "      <td>15.3</td>\n",
       "      <td>396.90</td>\n",
       "      <td>4.98</td>\n",
       "      <td>24.0</td>\n",
       "    </tr>\n",
       "    <tr>\n",
       "      <th>1</th>\n",
       "      <td>0.02731</td>\n",
       "      <td>0.0</td>\n",
       "      <td>7.07</td>\n",
       "      <td>0</td>\n",
       "      <td>0.469</td>\n",
       "      <td>6.421</td>\n",
       "      <td>78.9</td>\n",
       "      <td>4.9671</td>\n",
       "      <td>2</td>\n",
       "      <td>242</td>\n",
       "      <td>17.8</td>\n",
       "      <td>396.90</td>\n",
       "      <td>9.14</td>\n",
       "      <td>21.6</td>\n",
       "    </tr>\n",
       "    <tr>\n",
       "      <th>2</th>\n",
       "      <td>0.02729</td>\n",
       "      <td>0.0</td>\n",
       "      <td>7.07</td>\n",
       "      <td>0</td>\n",
       "      <td>0.469</td>\n",
       "      <td>7.185</td>\n",
       "      <td>61.1</td>\n",
       "      <td>4.9671</td>\n",
       "      <td>2</td>\n",
       "      <td>242</td>\n",
       "      <td>17.8</td>\n",
       "      <td>392.83</td>\n",
       "      <td>4.03</td>\n",
       "      <td>34.7</td>\n",
       "    </tr>\n",
       "    <tr>\n",
       "      <th>3</th>\n",
       "      <td>0.03237</td>\n",
       "      <td>0.0</td>\n",
       "      <td>2.18</td>\n",
       "      <td>0</td>\n",
       "      <td>0.458</td>\n",
       "      <td>6.998</td>\n",
       "      <td>45.8</td>\n",
       "      <td>6.0622</td>\n",
       "      <td>3</td>\n",
       "      <td>222</td>\n",
       "      <td>18.7</td>\n",
       "      <td>394.63</td>\n",
       "      <td>2.94</td>\n",
       "      <td>33.4</td>\n",
       "    </tr>\n",
       "    <tr>\n",
       "      <th>4</th>\n",
       "      <td>0.06905</td>\n",
       "      <td>0.0</td>\n",
       "      <td>2.18</td>\n",
       "      <td>0</td>\n",
       "      <td>0.458</td>\n",
       "      <td>7.147</td>\n",
       "      <td>54.2</td>\n",
       "      <td>6.0622</td>\n",
       "      <td>3</td>\n",
       "      <td>222</td>\n",
       "      <td>18.7</td>\n",
       "      <td>396.90</td>\n",
       "      <td>5.33</td>\n",
       "      <td>36.2</td>\n",
       "    </tr>\n",
       "  </tbody>\n",
       "</table>\n",
       "</div>"
      ],
      "text/plain": [
       "      crim    zn  indus  chas    nox     rm   age     dis  rad  tax  ptratio  \\\n",
       "0  0.00632  18.0   2.31     0  0.538  6.575  65.2  4.0900    1  296     15.3   \n",
       "1  0.02731   0.0   7.07     0  0.469  6.421  78.9  4.9671    2  242     17.8   \n",
       "2  0.02729   0.0   7.07     0  0.469  7.185  61.1  4.9671    2  242     17.8   \n",
       "3  0.03237   0.0   2.18     0  0.458  6.998  45.8  6.0622    3  222     18.7   \n",
       "4  0.06905   0.0   2.18     0  0.458  7.147  54.2  6.0622    3  222     18.7   \n",
       "\n",
       "        b  lstat  medv  \n",
       "0  396.90   4.98  24.0  \n",
       "1  396.90   9.14  21.6  \n",
       "2  392.83   4.03  34.7  \n",
       "3  394.63   2.94  33.4  \n",
       "4  396.90   5.33  36.2  "
      ]
     },
     "execution_count": 4,
     "metadata": {},
     "output_type": "execute_result"
    }
   ],
   "source": [
    "# 1. 과거의 데이터를 준비합니다.\n",
    "파일경로 = 'https://raw.githubusercontent.com/blackdew/tensorflow1/master/csv/boston.csv'\n",
    "보스턴 = pd.read_csv(파일경로)\n",
    "print(보스턴.columns)\n",
    "보스턴.head()"
   ]
  },
  {
   "cell_type": "code",
   "execution_count": 13,
   "id": "e9f909c7",
   "metadata": {},
   "outputs": [
    {
     "name": "stdout",
     "output_type": "stream",
     "text": [
      "(506, 13) (506, 1)\n"
     ]
    }
   ],
   "source": [
    "# 독립변수, 종속변수 분리 \n",
    "독립 = 보스턴[['crim', 'zn', 'indus', 'chas', 'nox', 'rm', 'age', 'dis', 'rad', 'tax',\n",
    "            'ptratio', 'b', 'lstat']]\n",
    "종속 = 보스턴[['medv']]\n",
    "print(독립.shape, 종속.shape)"
   ]
  },
  {
   "cell_type": "code",
   "execution_count": 14,
   "id": "a2932341",
   "metadata": {},
   "outputs": [],
   "source": [
    "# 2. 모델의 구조를 생성\n",
    "X = tf.keras.layers.Input(shape=[13])\n",
    "Y = tf.keras.layers.Dense(1)(X)\n",
    "model = tf.keras.models.Model(X, Y)\n",
    "model.compile(loss='mse')"
   ]
  },
  {
   "cell_type": "code",
   "execution_count": 15,
   "id": "2ca5cec1",
   "metadata": {},
   "outputs": [
    {
     "name": "stdout",
     "output_type": "stream",
     "text": [
      "Epoch 1/10\n",
      "16/16 [==============================] - 0s 666us/step - loss: 32671.9980\n",
      "Epoch 2/10\n",
      "16/16 [==============================] - 0s 932us/step - loss: 26942.6836\n",
      "Epoch 3/10\n",
      "16/16 [==============================] - 0s 533us/step - loss: 22537.2246\n",
      "Epoch 4/10\n",
      "16/16 [==============================] - 0s 666us/step - loss: 18629.7871\n",
      "Epoch 5/10\n",
      "16/16 [==============================] - 0s 733us/step - loss: 15145.7070\n",
      "Epoch 6/10\n",
      "16/16 [==============================] - 0s 666us/step - loss: 12087.6895\n",
      "Epoch 7/10\n",
      "16/16 [==============================] - 0s 533us/step - loss: 9410.9941\n",
      "Epoch 8/10\n",
      "16/16 [==============================] - 0s 666us/step - loss: 7154.7280\n",
      "Epoch 9/10\n",
      "16/16 [==============================] - 0s 717us/step - loss: 5308.7568\n",
      "Epoch 10/10\n",
      "16/16 [==============================] - 0s 733us/step - loss: 3812.7307\n"
     ]
    },
    {
     "data": {
      "text/plain": [
       "<keras.callbacks.History at 0x166e1033be0>"
      ]
     },
     "execution_count": 15,
     "metadata": {},
     "output_type": "execute_result"
    }
   ],
   "source": [
    "# 3. 모델을 학습(Fit)\n",
    "model.fit(독립, 종속, epochs=10)"
   ]
  },
  {
   "cell_type": "code",
   "execution_count": 19,
   "id": "9724dd05",
   "metadata": {},
   "outputs": [
    {
     "name": "stdout",
     "output_type": "stream",
     "text": [
      "Epoch 1/10\n",
      "16/16 [==============================] - 0s 733us/step - loss: 25.0371\n",
      "Epoch 2/10\n",
      "16/16 [==============================] - 0s 734us/step - loss: 24.6755\n",
      "Epoch 3/10\n",
      "16/16 [==============================] - 0s 600us/step - loss: 24.9172\n",
      "Epoch 4/10\n",
      "16/16 [==============================] - 0s 600us/step - loss: 24.1622\n",
      "Epoch 5/10\n",
      "16/16 [==============================] - 0s 734us/step - loss: 25.0723\n",
      "Epoch 6/10\n",
      "16/16 [==============================] - 0s 666us/step - loss: 24.3428\n",
      "Epoch 7/10\n",
      "16/16 [==============================] - 0s 533us/step - loss: 24.7274\n",
      "Epoch 8/10\n",
      "16/16 [==============================] - 0s 666us/step - loss: 24.7720\n",
      "Epoch 9/10\n",
      "16/16 [==============================] - 0s 733us/step - loss: 24.8758\n",
      "Epoch 10/10\n",
      "16/16 [==============================] - 0s 600us/step - loss: 24.7449\n"
     ]
    },
    {
     "data": {
      "text/plain": [
       "<keras.callbacks.History at 0x166d9b4c580>"
      ]
     },
     "execution_count": 19,
     "metadata": {},
     "output_type": "execute_result"
    }
   ],
   "source": [
    "###########################\n",
    "# 3.데이터로 모델을 학습(FIT)합니다.\n",
    "model.fit(독립, 종속, epochs=1000, verbose=0)\n",
    "model.fit(독립, 종속, epochs=10)"
   ]
  },
  {
   "cell_type": "code",
   "execution_count": 20,
   "id": "9586fb42",
   "metadata": {},
   "outputs": [
    {
     "name": "stdout",
     "output_type": "stream",
     "text": [
      "[[25.832409]\n",
      " [21.705761]\n",
      " [18.612452]\n",
      " [10.246124]\n",
      " [18.082916]]\n",
      "   medv\n",
      "5  28.7\n",
      "6  22.9\n",
      "7  27.1\n",
      "8  16.5\n",
      "9  18.9\n"
     ]
    }
   ],
   "source": [
    " ###########################\n",
    "# 4. 모델을 이용합니다\n",
    "print(model.predict(독립[5:10]))\n",
    "# 종속변수 확인\n",
    "print(종속[5:10])"
   ]
  },
  {
   "cell_type": "code",
   "execution_count": 21,
   "id": "fd36c14f",
   "metadata": {},
   "outputs": [
    {
     "name": "stdout",
     "output_type": "stream",
     "text": [
      "[array([[-0.09022501],\n",
      "       [ 0.05591644],\n",
      "       [-0.04627   ],\n",
      "       [ 2.9648871 ],\n",
      "       [ 1.9348811 ],\n",
      "       [ 4.9602623 ],\n",
      "       [-0.00550614],\n",
      "       [-0.98202914],\n",
      "       [ 0.17350313],\n",
      "       [-0.0101092 ],\n",
      "       [-0.30733985],\n",
      "       [ 0.01407314],\n",
      "       [-0.49921808]], dtype=float32), array([3.9571838], dtype=float32)]\n"
     ]
    }
   ],
   "source": [
    " \n",
    "###########################\n",
    "# 모델의 수식 확인\n",
    "print(model.get_weights())"
   ]
  },
  {
   "cell_type": "code",
   "execution_count": null,
   "id": "fcea0ec0",
   "metadata": {},
   "outputs": [],
   "source": []
  }
 ],
 "metadata": {
  "kernelspec": {
   "display_name": "Python 3",
   "language": "python",
   "name": "python3"
  },
  "language_info": {
   "codemirror_mode": {
    "name": "ipython",
    "version": 3
   },
   "file_extension": ".py",
   "mimetype": "text/x-python",
   "name": "python",
   "nbconvert_exporter": "python",
   "pygments_lexer": "ipython3",
   "version": "3.8.8"
  }
 },
 "nbformat": 4,
 "nbformat_minor": 5
}
